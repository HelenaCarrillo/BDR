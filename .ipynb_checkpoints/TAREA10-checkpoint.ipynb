{
 "cells": [
  {
   "cell_type": "markdown",
   "metadata": {},
   "source": [
    "# TAREA 10\n",
    "\n",
    "Para realizar esta tarea se utiizará la base de datos *lol_stats* para realizar una conexión de MySQL con Python.\n",
    "\n",
    "En primero lugar ya que se utilizará más adelante se importa pandas:"
   ]
  },
  {
   "cell_type": "code",
   "execution_count": 31,
   "metadata": {},
   "outputs": [],
   "source": [
    "import pandas as pd"
   ]
  },
  {
   "cell_type": "markdown",
   "metadata": {},
   "source": [
    "Luego se crea la conexión con mysql:"
   ]
  },
  {
   "cell_type": "code",
   "execution_count": 43,
   "metadata": {},
   "outputs": [],
   "source": [
    "import mysql.connector as mysql\n",
    "\n",
    "conn = mysql.connect(\n",
    "    host = 'localhost',\n",
    "    database = 'lol_stats',\n",
    "    user = 'root',\n",
    "    password = 'Hpcs0399.')\n",
    "\n",
    "cursor = conn.cursor()"
   ]
  },
  {
   "cell_type": "markdown",
   "metadata": {},
   "source": [
    "Para probar la conexión se crea una tabla en la base de datos llamada prueba usando el cursor:"
   ]
  },
  {
   "cell_type": "code",
   "execution_count": 44,
   "metadata": {},
   "outputs": [],
   "source": [
    "cursor.execute(\"CREATE TABLE prueba (id INT)\")"
   ]
  },
  {
   "cell_type": "markdown",
   "metadata": {},
   "source": [
    "Para verificar que funcionó se utiliza la función *pd.read_sql* para importar las tablas en la base de datos:"
   ]
  },
  {
   "cell_type": "code",
   "execution_count": 45,
   "metadata": {},
   "outputs": [
    {
     "data": {
      "text/html": [
       "<div>\n",
       "<style scoped>\n",
       "    .dataframe tbody tr th:only-of-type {\n",
       "        vertical-align: middle;\n",
       "    }\n",
       "\n",
       "    .dataframe tbody tr th {\n",
       "        vertical-align: top;\n",
       "    }\n",
       "\n",
       "    .dataframe thead th {\n",
       "        text-align: right;\n",
       "    }\n",
       "</style>\n",
       "<table border=\"1\" class=\"dataframe\">\n",
       "  <thead>\n",
       "    <tr style=\"text-align: right;\">\n",
       "      <th></th>\n",
       "      <th>Tables_in_lol_stats</th>\n",
       "    </tr>\n",
       "  </thead>\n",
       "  <tbody>\n",
       "    <tr>\n",
       "      <th>0</th>\n",
       "      <td>champion_def</td>\n",
       "    </tr>\n",
       "    <tr>\n",
       "      <th>1</th>\n",
       "      <td>champion_m_stats</td>\n",
       "    </tr>\n",
       "    <tr>\n",
       "      <th>2</th>\n",
       "      <td>championsstats</td>\n",
       "    </tr>\n",
       "    <tr>\n",
       "      <th>3</th>\n",
       "      <td>jugadores</td>\n",
       "    </tr>\n",
       "    <tr>\n",
       "      <th>4</th>\n",
       "      <td>jugadores_2</td>\n",
       "    </tr>\n",
       "    <tr>\n",
       "      <th>5</th>\n",
       "      <td>match_stats</td>\n",
       "    </tr>\n",
       "    <tr>\n",
       "      <th>6</th>\n",
       "      <td>player_def</td>\n",
       "    </tr>\n",
       "    <tr>\n",
       "      <th>7</th>\n",
       "      <td>player_stats</td>\n",
       "    </tr>\n",
       "    <tr>\n",
       "      <th>8</th>\n",
       "      <td>prueba</td>\n",
       "    </tr>\n",
       "    <tr>\n",
       "      <th>9</th>\n",
       "      <td>team_stats</td>\n",
       "    </tr>\n",
       "  </tbody>\n",
       "</table>\n",
       "</div>"
      ],
      "text/plain": [
       "  Tables_in_lol_stats\n",
       "0        champion_def\n",
       "1    champion_m_stats\n",
       "2      championsstats\n",
       "3           jugadores\n",
       "4         jugadores_2\n",
       "5         match_stats\n",
       "6          player_def\n",
       "7        player_stats\n",
       "8              prueba\n",
       "9          team_stats"
      ]
     },
     "execution_count": 45,
     "metadata": {},
     "output_type": "execute_result"
    }
   ],
   "source": [
    "tables = pd.read_sql(\"SHOW TABLES\",conn)\n",
    "tables"
   ]
  },
  {
   "cell_type": "markdown",
   "metadata": {},
   "source": [
    "Una vez probada la conexión podemos deshacernos de la tabla usando nuevamente el cursor:"
   ]
  },
  {
   "cell_type": "code",
   "execution_count": 46,
   "metadata": {},
   "outputs": [],
   "source": [
    "cursor.execute(\"DROP TABLE IF EXISTS prueba\")"
   ]
  },
  {
   "cell_type": "markdown",
   "metadata": {},
   "source": [
    "Para comprobar que se hizo la modificación volvemos a importar la tablas:"
   ]
  },
  {
   "cell_type": "code",
   "execution_count": 48,
   "metadata": {},
   "outputs": [
    {
     "data": {
      "text/html": [
       "<div>\n",
       "<style scoped>\n",
       "    .dataframe tbody tr th:only-of-type {\n",
       "        vertical-align: middle;\n",
       "    }\n",
       "\n",
       "    .dataframe tbody tr th {\n",
       "        vertical-align: top;\n",
       "    }\n",
       "\n",
       "    .dataframe thead th {\n",
       "        text-align: right;\n",
       "    }\n",
       "</style>\n",
       "<table border=\"1\" class=\"dataframe\">\n",
       "  <thead>\n",
       "    <tr style=\"text-align: right;\">\n",
       "      <th></th>\n",
       "      <th>Tables_in_lol_stats</th>\n",
       "    </tr>\n",
       "  </thead>\n",
       "  <tbody>\n",
       "    <tr>\n",
       "      <th>0</th>\n",
       "      <td>champion_def</td>\n",
       "    </tr>\n",
       "    <tr>\n",
       "      <th>1</th>\n",
       "      <td>champion_m_stats</td>\n",
       "    </tr>\n",
       "    <tr>\n",
       "      <th>2</th>\n",
       "      <td>championsstats</td>\n",
       "    </tr>\n",
       "    <tr>\n",
       "      <th>3</th>\n",
       "      <td>jugadores</td>\n",
       "    </tr>\n",
       "    <tr>\n",
       "      <th>4</th>\n",
       "      <td>jugadores_2</td>\n",
       "    </tr>\n",
       "    <tr>\n",
       "      <th>5</th>\n",
       "      <td>match_stats</td>\n",
       "    </tr>\n",
       "    <tr>\n",
       "      <th>6</th>\n",
       "      <td>player_def</td>\n",
       "    </tr>\n",
       "    <tr>\n",
       "      <th>7</th>\n",
       "      <td>player_stats</td>\n",
       "    </tr>\n",
       "    <tr>\n",
       "      <th>8</th>\n",
       "      <td>team_stats</td>\n",
       "    </tr>\n",
       "  </tbody>\n",
       "</table>\n",
       "</div>"
      ],
      "text/plain": [
       "  Tables_in_lol_stats\n",
       "0        champion_def\n",
       "1    champion_m_stats\n",
       "2      championsstats\n",
       "3           jugadores\n",
       "4         jugadores_2\n",
       "5         match_stats\n",
       "6          player_def\n",
       "7        player_stats\n",
       "8          team_stats"
      ]
     },
     "execution_count": 48,
     "metadata": {},
     "output_type": "execute_result"
    }
   ],
   "source": [
    "tables = pd.read_sql(\"SHOW TABLES\",conn)\n",
    "tables"
   ]
  },
  {
   "cell_type": "markdown",
   "metadata": {},
   "source": [
    "Podemos aplicar el mismo procedimiento usado en la consulta anterior para la importación de las tablas completas de las bases de datos:"
   ]
  },
  {
   "cell_type": "code",
   "execution_count": 50,
   "metadata": {},
   "outputs": [],
   "source": [
    "playerstats= pd.read_sql(\"SELECT * FROM player_stats\",conn)\n",
    "championdef= pd.read_sql(\"SELECT * FROM champion_def\",conn)\n",
    "championmstats= pd.read_sql(\"SELECT * FROM champion_m_stats\",conn)\n",
    "matchstats= pd.read_sql(\"SELECT * FROM match_stats\",conn)\n",
    "playerdef= pd.read_sql(\"SELECT * FROM player_def\",conn)\n",
    "teamstats= pd.read_sql(\"SELECT * FROM team_stats\",conn)"
   ]
  },
  {
   "cell_type": "markdown",
   "metadata": {},
   "source": [
    "Una vez importadas podemos hacer consultas parecidas a las que se estuvieron haciendo en la tareas pasadas usando ahora Python.\n",
    "Por ejemplo, podemos solicitar que se nos de la tabla de frecuencias por *playstyle* como se realizó en la [Tarea 6](https://github.com/HelenaCarrillo/BDR/blob/master/TAREA6.md):"
   ]
  },
  {
   "cell_type": "code",
   "execution_count": 93,
   "metadata": {},
   "outputs": [
    {
     "data": {
      "text/html": [
       "<div>\n",
       "<style scoped>\n",
       "    .dataframe tbody tr th:only-of-type {\n",
       "        vertical-align: middle;\n",
       "    }\n",
       "\n",
       "    .dataframe tbody tr th {\n",
       "        vertical-align: top;\n",
       "    }\n",
       "\n",
       "    .dataframe thead th {\n",
       "        text-align: right;\n",
       "    }\n",
       "</style>\n",
       "<table border=\"1\" class=\"dataframe\">\n",
       "  <thead>\n",
       "    <tr style=\"text-align: right;\">\n",
       "      <th></th>\n",
       "      <th>freq</th>\n",
       "    </tr>\n",
       "    <tr>\n",
       "      <th>playstyle</th>\n",
       "      <th></th>\n",
       "    </tr>\n",
       "  </thead>\n",
       "  <tbody>\n",
       "    <tr>\n",
       "      <th>Marksman</th>\n",
       "      <td>23</td>\n",
       "    </tr>\n",
       "    <tr>\n",
       "      <th>Assassin</th>\n",
       "      <td>17</td>\n",
       "    </tr>\n",
       "    <tr>\n",
       "      <th>Burst</th>\n",
       "      <td>16</td>\n",
       "    </tr>\n",
       "    <tr>\n",
       "      <th>Diver</th>\n",
       "      <td>15</td>\n",
       "    </tr>\n",
       "    <tr>\n",
       "      <th>Specialist</th>\n",
       "      <td>15</td>\n",
       "    </tr>\n",
       "    <tr>\n",
       "      <th>Juggernaut</th>\n",
       "      <td>14</td>\n",
       "    </tr>\n",
       "    <tr>\n",
       "      <th>Skirmisher</th>\n",
       "      <td>14</td>\n",
       "    </tr>\n",
       "    <tr>\n",
       "      <th>Vanguard</th>\n",
       "      <td>13</td>\n",
       "    </tr>\n",
       "    <tr>\n",
       "      <th>Battlemage</th>\n",
       "      <td>11</td>\n",
       "    </tr>\n",
       "    <tr>\n",
       "      <th>Enchanter</th>\n",
       "      <td>8</td>\n",
       "    </tr>\n",
       "    <tr>\n",
       "      <th>Catcher</th>\n",
       "      <td>7</td>\n",
       "    </tr>\n",
       "    <tr>\n",
       "      <th>Warden</th>\n",
       "      <td>6</td>\n",
       "    </tr>\n",
       "    <tr>\n",
       "      <th>Artillery</th>\n",
       "      <td>4</td>\n",
       "    </tr>\n",
       "  </tbody>\n",
       "</table>\n",
       "</div>"
      ],
      "text/plain": [
       "            freq\n",
       "playstyle       \n",
       "Marksman      23\n",
       "Assassin      17\n",
       "Burst         16\n",
       "Diver         15\n",
       "Specialist    15\n",
       "Juggernaut    14\n",
       "Skirmisher    14\n",
       "Vanguard      13\n",
       "Battlemage    11\n",
       "Enchanter      8\n",
       "Catcher        7\n",
       "Warden         6\n",
       "Artillery      4"
      ]
     },
     "execution_count": 93,
     "metadata": {},
     "output_type": "execute_result"
    }
   ],
   "source": [
    "championdef.groupby(['playstyle']).agg(freq= ('playstyle','count')).sort_values(by='freq', ascending=0)"
   ]
  },
  {
   "cell_type": "markdown",
   "metadata": {},
   "source": [
    "De la misma tarea también se puede obtener la media de *blue_essence* y *rp_price* agrupado por *playstyle*:"
   ]
  },
  {
   "cell_type": "code",
   "execution_count": 96,
   "metadata": {},
   "outputs": [
    {
     "data": {
      "text/html": [
       "<div>\n",
       "<style scoped>\n",
       "    .dataframe tbody tr th:only-of-type {\n",
       "        vertical-align: middle;\n",
       "    }\n",
       "\n",
       "    .dataframe tbody tr th {\n",
       "        vertical-align: top;\n",
       "    }\n",
       "\n",
       "    .dataframe thead th {\n",
       "        text-align: right;\n",
       "    }\n",
       "</style>\n",
       "<table border=\"1\" class=\"dataframe\">\n",
       "  <thead>\n",
       "    <tr style=\"text-align: right;\">\n",
       "      <th></th>\n",
       "      <th>blue_essence_mean</th>\n",
       "      <th>rp_price_mean</th>\n",
       "    </tr>\n",
       "    <tr>\n",
       "      <th>playstyle</th>\n",
       "      <th></th>\n",
       "      <th></th>\n",
       "    </tr>\n",
       "  </thead>\n",
       "  <tbody>\n",
       "    <tr>\n",
       "      <th>Skirmisher</th>\n",
       "      <td>4853.571429</td>\n",
       "      <td>847.857143</td>\n",
       "    </tr>\n",
       "    <tr>\n",
       "      <th>Artillery</th>\n",
       "      <td>4800.000000</td>\n",
       "      <td>880.000000</td>\n",
       "    </tr>\n",
       "    <tr>\n",
       "      <th>Assassin</th>\n",
       "      <td>4650.000000</td>\n",
       "      <td>869.411765</td>\n",
       "    </tr>\n",
       "    <tr>\n",
       "      <th>Marksman</th>\n",
       "      <td>4506.521739</td>\n",
       "      <td>830.652174</td>\n",
       "    </tr>\n",
       "    <tr>\n",
       "      <th>Catcher</th>\n",
       "      <td>4500.000000</td>\n",
       "      <td>852.142857</td>\n",
       "    </tr>\n",
       "    <tr>\n",
       "      <th>Battlemage</th>\n",
       "      <td>4227.272727</td>\n",
       "      <td>816.363636</td>\n",
       "    </tr>\n",
       "    <tr>\n",
       "      <th>Diver</th>\n",
       "      <td>4160.000000</td>\n",
       "      <td>813.333333</td>\n",
       "    </tr>\n",
       "    <tr>\n",
       "      <th>Burst</th>\n",
       "      <td>4153.125000</td>\n",
       "      <td>811.562500</td>\n",
       "    </tr>\n",
       "    <tr>\n",
       "      <th>Enchanter</th>\n",
       "      <td>3562.500000</td>\n",
       "      <td>741.250000</td>\n",
       "    </tr>\n",
       "    <tr>\n",
       "      <th>Vanguard</th>\n",
       "      <td>3507.692308</td>\n",
       "      <td>749.230769</td>\n",
       "    </tr>\n",
       "    <tr>\n",
       "      <th>Juggernaut</th>\n",
       "      <td>3182.142857</td>\n",
       "      <td>716.071429</td>\n",
       "    </tr>\n",
       "    <tr>\n",
       "      <th>Warden</th>\n",
       "      <td>3050.000000</td>\n",
       "      <td>659.166667</td>\n",
       "    </tr>\n",
       "    <tr>\n",
       "      <th>Specialist</th>\n",
       "      <td>2970.000000</td>\n",
       "      <td>700.666667</td>\n",
       "    </tr>\n",
       "  </tbody>\n",
       "</table>\n",
       "</div>"
      ],
      "text/plain": [
       "            blue_essence_mean  rp_price_mean\n",
       "playstyle                                   \n",
       "Skirmisher        4853.571429     847.857143\n",
       "Artillery         4800.000000     880.000000\n",
       "Assassin          4650.000000     869.411765\n",
       "Marksman          4506.521739     830.652174\n",
       "Catcher           4500.000000     852.142857\n",
       "Battlemage        4227.272727     816.363636\n",
       "Diver             4160.000000     813.333333\n",
       "Burst             4153.125000     811.562500\n",
       "Enchanter         3562.500000     741.250000\n",
       "Vanguard          3507.692308     749.230769\n",
       "Juggernaut        3182.142857     716.071429\n",
       "Warden            3050.000000     659.166667\n",
       "Specialist        2970.000000     700.666667"
      ]
     },
     "execution_count": 96,
     "metadata": {},
     "output_type": "execute_result"
    }
   ],
   "source": [
    "championdef.groupby(['playstyle']).agg(blue_essence_mean= ('blue_essence_price','mean'), rp_price_mean=('rp_price','mean')).sort_values(by='blue_essence_mean', ascending=0)"
   ]
  },
  {
   "cell_type": "code",
   "execution_count": null,
   "metadata": {},
   "outputs": [],
   "source": []
  },
  {
   "cell_type": "code",
   "execution_count": null,
   "metadata": {},
   "outputs": [],
   "source": []
  },
  {
   "cell_type": "code",
   "execution_count": null,
   "metadata": {},
   "outputs": [],
   "source": []
  },
  {
   "cell_type": "markdown",
   "metadata": {},
   "source": [
    "* Realizar consultas relevantes y explicar su importancia\n",
    "* Realizar funciones de agregación directamente en Python\n",
    "* Graficas"
   ]
  }
 ],
 "metadata": {
  "kernelspec": {
   "display_name": "Python 3",
   "language": "python",
   "name": "python3"
  },
  "language_info": {
   "codemirror_mode": {
    "name": "ipython",
    "version": 3
   },
   "file_extension": ".py",
   "mimetype": "text/x-python",
   "name": "python",
   "nbconvert_exporter": "python",
   "pygments_lexer": "ipython3",
   "version": "3.8.3"
  }
 },
 "nbformat": 4,
 "nbformat_minor": 4
}
